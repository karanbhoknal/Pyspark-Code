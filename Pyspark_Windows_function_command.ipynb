{
  "nbformat": 4,
  "nbformat_minor": 0,
  "metadata": {
    "colab": {
      "provenance": [],
      "authorship_tag": "ABX9TyMki0Co9qTk7pCHiKpLPkXA",
      "include_colab_link": true
    },
    "kernelspec": {
      "name": "python3",
      "display_name": "Python 3"
    },
    "language_info": {
      "name": "python"
    }
  },
  "cells": [
    {
      "cell_type": "markdown",
      "metadata": {
        "id": "view-in-github",
        "colab_type": "text"
      },
      "source": [
        "<a href=\"https://colab.research.google.com/github/karanbhoknal/Pyspark-Code/blob/main/Pyspark_Windows_function_command.ipynb\" target=\"_parent\"><img src=\"https://colab.research.google.com/assets/colab-badge.svg\" alt=\"Open In Colab\"/></a>"
      ]
    },
    {
      "cell_type": "code",
      "execution_count": 1,
      "metadata": {
        "colab": {
          "base_uri": "https://localhost:8080/"
        },
        "id": "qDZ2yU1y4p8Q",
        "outputId": "55ddc0f1-c4a9-4cf1-a14b-0cbecbc15457"
      },
      "outputs": [
        {
          "output_type": "stream",
          "name": "stdout",
          "text": [
            "Requirement already satisfied: pyspark in /usr/local/lib/python3.11/dist-packages (3.5.5)\n",
            "Requirement already satisfied: py4j==0.10.9.7 in /usr/local/lib/python3.11/dist-packages (from pyspark) (0.10.9.7)\n"
          ]
        }
      ],
      "source": [
        "pip install pyspark"
      ]
    },
    {
      "cell_type": "code",
      "source": [
        "from pathlib import WindowsPath\n",
        "from pyspark.sql import SparkSession\n",
        "from pyspark.sql.functions import*\n",
        "from pyspark.sql.window import Window\n",
        "\n",
        "# initialize spark session\n",
        "spark=SparkSession.builder.appName(\"pyspark Practice\").getOrCreate()\n",
        "\n",
        "# sample data read csv file\n",
        "print(\"read csv file\")\n",
        "df=spark.read.csv(\"/content/sample_data/data1.csv.csv\",header=True,inferSchema=True)\n",
        "df.show(4)\n",
        "\n",
        "# performe the windows function\n",
        "print(\"windows functions\")\n",
        "print(\"windows speficy here \")\n",
        "WindowSpec = Window.orderBy(col(\"salary\").desc())\n",
        "\n",
        "# let's performe the\n",
        "print(\"row_based funtion\")\n",
        "print(\"row_number()\")\n",
        "df.withColumn(\"row_number\",row_number().over(WindowSpec)).show(4)\n",
        "df.withColumn(\"rank\",rank().over(WindowSpec)).show(4)\n",
        "df.withColumn(\"dense_rank\",dense_rank().over(WindowSpec)).show(4)\n",
        "\n",
        "# Aggregated function\n",
        "print(\"Aggregated function here\")\n",
        "print(\"sum()\")\n",
        "df.withColumn(\"sum\",sum(\"salary\").over(WindowSpec)).show(4)\n",
        "print(\"avg()\")\n",
        "df.withColumn(\"avg\",avg(\"salary\").over(WindowSpec)).show(4)\n",
        "print(\"max()\")\n",
        "df.withColumn(\"min\",min(\"salary\").over(WindowSpec)).show(4)\n",
        "print(\"min()\")\n",
        "df.withColumn(\"max\",max(\"salary\").over(WindowSpec)).show(4)\n",
        "\n",
        "# navigation function\n",
        "\n",
        "print(\"Navigation function\")\n",
        "print(\"lead ()\")\n",
        "df.withColumn(\"lead\",lead(\"salary\").over(WindowSpec)).show(4)\n",
        "\n",
        "print(\"lag()\")\n",
        "df.withColumn(\"lag\",lag(\"salary\").over(WindowSpec)).show(4)\n",
        "\n",
        "\n"
      ],
      "metadata": {
        "colab": {
          "base_uri": "https://localhost:8080/"
        },
        "id": "_Cbq4BBp4sIs",
        "outputId": "e414d9fc-aeec-41d6-ea99-6123ea1d18ba"
      },
      "execution_count": 8,
      "outputs": [
        {
          "output_type": "stream",
          "name": "stdout",
          "text": [
            "read csv file\n",
            "+---+-------+------+---+------+---------+---------+\n",
            "| id|   name|gender|age|salary|purchased|  country|\n",
            "+---+-------+------+---+------+---------+---------+\n",
            "|  1|   John|  Male| 28| 60000|        3|      USA|\n",
            "|  2|   Jane|Female| 32| 75000|        0|   Canada|\n",
            "|  3|Michael|  Male| 22| 45000|        2|       UK|\n",
            "|  4|  Emily|Female| 40| 90000|        1|Australia|\n",
            "+---+-------+------+---+------+---------+---------+\n",
            "only showing top 4 rows\n",
            "\n",
            "windows functions\n",
            "windows speficy here \n",
            "row_based funtion\n",
            "row_number()\n",
            "+---+-------+------+---+------+---------+---------+----------+\n",
            "| id|   name|gender|age|salary|purchased|  country|row_number|\n",
            "+---+-------+------+---+------+---------+---------+----------+\n",
            "| 31| Rayaji|  Male| 44|340000|        6|    India|         1|\n",
            "|  7|William|  Male| 45|100000|        4|      USA|         2|\n",
            "| 25|Jackson|  Male| 42| 95000|        2|Australia|         3|\n",
            "|  4|  Emily|Female| 40| 90000|        1|Australia|         4|\n",
            "+---+-------+------+---+------+---------+---------+----------+\n",
            "only showing top 4 rows\n",
            "\n",
            "+---+-------+------+---+------+---------+---------+----+\n",
            "| id|   name|gender|age|salary|purchased|  country|rank|\n",
            "+---+-------+------+---+------+---------+---------+----+\n",
            "| 31| Rayaji|  Male| 44|340000|        6|    India|   1|\n",
            "|  7|William|  Male| 45|100000|        4|      USA|   2|\n",
            "| 25|Jackson|  Male| 42| 95000|        2|Australia|   3|\n",
            "|  4|  Emily|Female| 40| 90000|        1|Australia|   4|\n",
            "+---+-------+------+---+------+---------+---------+----+\n",
            "only showing top 4 rows\n",
            "\n",
            "+---+-------+------+---+------+---------+---------+----------+\n",
            "| id|   name|gender|age|salary|purchased|  country|dense_rank|\n",
            "+---+-------+------+---+------+---------+---------+----------+\n",
            "| 31| Rayaji|  Male| 44|340000|        6|    India|         1|\n",
            "|  7|William|  Male| 45|100000|        4|      USA|         2|\n",
            "| 25|Jackson|  Male| 42| 95000|        2|Australia|         3|\n",
            "|  4|  Emily|Female| 40| 90000|        1|Australia|         4|\n",
            "+---+-------+------+---+------+---------+---------+----------+\n",
            "only showing top 4 rows\n",
            "\n",
            "Aggregated function here\n",
            "sum()\n",
            "+---+-------+------+---+------+---------+---------+------+\n",
            "| id|   name|gender|age|salary|purchased|  country|   sum|\n",
            "+---+-------+------+---+------+---------+---------+------+\n",
            "| 31| Rayaji|  Male| 44|340000|        6|    India|340000|\n",
            "|  7|William|  Male| 45|100000|        4|      USA|440000|\n",
            "| 25|Jackson|  Male| 42| 95000|        2|Australia|535000|\n",
            "|  4|  Emily|Female| 40| 90000|        1|Australia|625000|\n",
            "+---+-------+------+---+------+---------+---------+------+\n",
            "only showing top 4 rows\n",
            "\n",
            "+---+-------+------+---+------+---------+---------+------------------+\n",
            "| id|   name|gender|age|salary|purchased|  country|               avg|\n",
            "+---+-------+------+---+------+---------+---------+------------------+\n",
            "| 31| Rayaji|  Male| 44|340000|        6|    India|          340000.0|\n",
            "|  7|William|  Male| 45|100000|        4|      USA|          220000.0|\n",
            "| 25|Jackson|  Male| 42| 95000|        2|Australia|178333.33333333334|\n",
            "|  4|  Emily|Female| 40| 90000|        1|Australia|          156250.0|\n",
            "+---+-------+------+---+------+---------+---------+------------------+\n",
            "only showing top 4 rows\n",
            "\n",
            "+---+-------+------+---+------+---------+---------+------+\n",
            "| id|   name|gender|age|salary|purchased|  country|   min|\n",
            "+---+-------+------+---+------+---------+---------+------+\n",
            "| 31| Rayaji|  Male| 44|340000|        6|    India|340000|\n",
            "|  7|William|  Male| 45|100000|        4|      USA|100000|\n",
            "| 25|Jackson|  Male| 42| 95000|        2|Australia| 95000|\n",
            "|  4|  Emily|Female| 40| 90000|        1|Australia| 90000|\n",
            "+---+-------+------+---+------+---------+---------+------+\n",
            "only showing top 4 rows\n",
            "\n",
            "+---+-------+------+---+------+---------+---------+------+\n",
            "| id|   name|gender|age|salary|purchased|  country|   max|\n",
            "+---+-------+------+---+------+---------+---------+------+\n",
            "| 31| Rayaji|  Male| 44|340000|        6|    India|340000|\n",
            "|  7|William|  Male| 45|100000|        4|      USA|340000|\n",
            "| 25|Jackson|  Male| 42| 95000|        2|Australia|340000|\n",
            "|  4|  Emily|Female| 40| 90000|        1|Australia|340000|\n",
            "+---+-------+------+---+------+---------+---------+------+\n",
            "only showing top 4 rows\n",
            "\n",
            "Navigation function\n",
            "lead ()\n",
            "+---+-------+------+---+------+---------+---------+------+\n",
            "| id|   name|gender|age|salary|purchased|  country|  lead|\n",
            "+---+-------+------+---+------+---------+---------+------+\n",
            "| 31| Rayaji|  Male| 44|340000|        6|    India|100000|\n",
            "|  7|William|  Male| 45|100000|        4|      USA| 95000|\n",
            "| 25|Jackson|  Male| 42| 95000|        2|Australia| 90000|\n",
            "|  4|  Emily|Female| 40| 90000|        1|Australia| 88000|\n",
            "+---+-------+------+---+------+---------+---------+------+\n",
            "only showing top 4 rows\n",
            "\n",
            "+---+-------+------+---+------+---------+---------+------+\n",
            "| id|   name|gender|age|salary|purchased|  country|   lag|\n",
            "+---+-------+------+---+------+---------+---------+------+\n",
            "| 31| Rayaji|  Male| 44|340000|        6|    India|  NULL|\n",
            "|  7|William|  Male| 45|100000|        4|      USA|340000|\n",
            "| 25|Jackson|  Male| 42| 95000|        2|Australia|100000|\n",
            "|  4|  Emily|Female| 40| 90000|        1|Australia| 95000|\n",
            "+---+-------+------+---+------+---------+---------+------+\n",
            "only showing top 4 rows\n",
            "\n"
          ]
        }
      ]
    }
  ]
}
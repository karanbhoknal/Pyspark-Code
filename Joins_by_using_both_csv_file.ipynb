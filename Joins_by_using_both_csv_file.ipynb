{
  "nbformat": 4,
  "nbformat_minor": 0,
  "metadata": {
    "colab": {
      "provenance": [],
      "authorship_tag": "ABX9TyMQ7xHEWuAitylVHurhcaJO"
    },
    "kernelspec": {
      "name": "python3",
      "display_name": "Python 3"
    },
    "language_info": {
      "name": "python"
    }
  },
  "cells": [
    {
      "cell_type": "code",
      "execution_count": 1,
      "metadata": {
        "colab": {
          "base_uri": "https://localhost:8080/"
        },
        "id": "LUBoh4cFlxxl",
        "outputId": "a3da110f-ea02-41ea-e075-3613bd8448cd"
      },
      "outputs": [
        {
          "output_type": "stream",
          "name": "stdout",
          "text": [
            "Requirement already satisfied: pyspark in /usr/local/lib/python3.11/dist-packages (3.5.5)\n",
            "Requirement already satisfied: py4j==0.10.9.7 in /usr/local/lib/python3.11/dist-packages (from pyspark) (0.10.9.7)\n"
          ]
        }
      ],
      "source": [
        "pip install pyspark"
      ]
    },
    {
      "cell_type": "code",
      "source": [
        "from pyspark.sql import SparkSession\n",
        "from pyspark.sql.functions import*\n",
        "\n",
        "# initalize sparkContext\n",
        "spark = SparkSession.builder.appName(\"PySpark_Tutorial\").getOrCreate()\n",
        "sc = spark.sparkContext\n",
        "sc\n",
        "# reda csv file\n",
        "print(\"Sample data\")\n",
        "df=spark.read.csv(\"/content/sample_data/data1.csv.csv\",header=True,inferSchema=True)\n",
        "df.show(4)\n",
        "\n",
        "\n",
        "print(\"Second data\")\n",
        "df1=spark.read.csv(\"/content/sample_data/data1.csv.csv\",header=True,inferSchema=True)\n",
        "df1.show(4)\n",
        "\n",
        "# performe the joins on specific column based on csv files\n",
        "print(\"Joins \")\n",
        "print(\"Inner Join()\")\n",
        "df_inner_join=df.join(df1,df[\"id\"]==df1[\"id\"],\"inner\")\n",
        "df_inner_join.show(4)\n",
        "\n",
        "print(\"right join()\")\n",
        "df_right_join=df.join(df1,df[\"id\"]==df1[\"id\"],\"right\")\n",
        "df_right_join.show(4)\n",
        "\n",
        "print(\"Semi join()\")\n",
        "df_semi_join=df.join(df1,df[\"id\"]==df1[\"id\"],\"leftsemi\")\n",
        "df_semi_join.show(4)\n",
        "\n",
        "print(\"left join()\")\n",
        "df_left_join=df.join(df1,df[\"id\"]==df1[\"id\"],\"left\")\n",
        "df_left_join.show(4)\n",
        "\n",
        "print(\"anti join\")\n",
        "df_anti_join=df.join(df1,df[\"id\"]==df1[\"id\"],\"leftanti\")\n",
        "df_anti_join.show(4)\n",
        "\n",
        "print(\"cross join\")\n",
        "df_cross_join=df.join(df1,df[\"id\"]==df1[\"id\"],\"cross\")\n",
        "df_cross_join.show(4)\n",
        "\n",
        "\n"
      ],
      "metadata": {
        "colab": {
          "base_uri": "https://localhost:8080/"
        },
        "id": "wJM03Kjvl2sP",
        "outputId": "a3ef8a2b-891e-4bbe-a7ce-884d30e9b656"
      },
      "execution_count": 19,
      "outputs": [
        {
          "output_type": "stream",
          "name": "stdout",
          "text": [
            "Sample data\n",
            "+---+-------+------+---+------+---------+---------+\n",
            "| id|   name|gender|age|salary|purchased|  country|\n",
            "+---+-------+------+---+------+---------+---------+\n",
            "|  1|   John|  Male| 28| 60000|        3|      USA|\n",
            "|  2|   Jane|Female| 32| 75000|        0|   Canada|\n",
            "|  3|Michael|  Male| 22| 45000|        2|       UK|\n",
            "|  4|  Emily|Female| 40| 90000|        1|Australia|\n",
            "+---+-------+------+---+------+---------+---------+\n",
            "only showing top 4 rows\n",
            "\n",
            "Second data\n",
            "+---+-------+------+---+------+---------+---------+\n",
            "| id|   name|gender|age|salary|purchased|  country|\n",
            "+---+-------+------+---+------+---------+---------+\n",
            "|  1|   John|  Male| 28| 60000|        3|      USA|\n",
            "|  2|   Jane|Female| 32| 75000|        0|   Canada|\n",
            "|  3|Michael|  Male| 22| 45000|        2|       UK|\n",
            "|  4|  Emily|Female| 40| 90000|        1|Australia|\n",
            "+---+-------+------+---+------+---------+---------+\n",
            "only showing top 4 rows\n",
            "\n",
            "Joins \n",
            "Inner Join()\n",
            "+---+-------+------+---+------+---------+---------+---+-------+------+---+------+---------+---------+\n",
            "| id|   name|gender|age|salary|purchased|  country| id|   name|gender|age|salary|purchased|  country|\n",
            "+---+-------+------+---+------+---------+---------+---+-------+------+---+------+---------+---------+\n",
            "|  1|   John|  Male| 28| 60000|        3|      USA|  1|   John|  Male| 28| 60000|        3|      USA|\n",
            "|  2|   Jane|Female| 32| 75000|        0|   Canada|  2|   Jane|Female| 32| 75000|        0|   Canada|\n",
            "|  3|Michael|  Male| 22| 45000|        2|       UK|  3|Michael|  Male| 22| 45000|        2|       UK|\n",
            "|  4|  Emily|Female| 40| 90000|        1|Australia|  4|  Emily|Female| 40| 90000|        1|Australia|\n",
            "+---+-------+------+---+------+---------+---------+---+-------+------+---+------+---------+---------+\n",
            "only showing top 4 rows\n",
            "\n",
            "right join()\n",
            "+---+-------+------+---+------+---------+---------+---+-------+------+---+------+---------+---------+\n",
            "| id|   name|gender|age|salary|purchased|  country| id|   name|gender|age|salary|purchased|  country|\n",
            "+---+-------+------+---+------+---------+---------+---+-------+------+---+------+---------+---------+\n",
            "|  1|   John|  Male| 28| 60000|        3|      USA|  1|   John|  Male| 28| 60000|        3|      USA|\n",
            "|  2|   Jane|Female| 32| 75000|        0|   Canada|  2|   Jane|Female| 32| 75000|        0|   Canada|\n",
            "|  3|Michael|  Male| 22| 45000|        2|       UK|  3|Michael|  Male| 22| 45000|        2|       UK|\n",
            "|  4|  Emily|Female| 40| 90000|        1|Australia|  4|  Emily|Female| 40| 90000|        1|Australia|\n",
            "+---+-------+------+---+------+---------+---------+---+-------+------+---+------+---------+---------+\n",
            "only showing top 4 rows\n",
            "\n",
            "Semi join()\n",
            "+---+-------+------+---+------+---------+---------+\n",
            "| id|   name|gender|age|salary|purchased|  country|\n",
            "+---+-------+------+---+------+---------+---------+\n",
            "|  1|   John|  Male| 28| 60000|        3|      USA|\n",
            "|  2|   Jane|Female| 32| 75000|        0|   Canada|\n",
            "|  3|Michael|  Male| 22| 45000|        2|       UK|\n",
            "|  4|  Emily|Female| 40| 90000|        1|Australia|\n",
            "+---+-------+------+---+------+---------+---------+\n",
            "only showing top 4 rows\n",
            "\n",
            "left join()\n",
            "+---+-------+------+---+------+---------+---------+---+-------+------+---+------+---------+---------+\n",
            "| id|   name|gender|age|salary|purchased|  country| id|   name|gender|age|salary|purchased|  country|\n",
            "+---+-------+------+---+------+---------+---------+---+-------+------+---+------+---------+---------+\n",
            "|  1|   John|  Male| 28| 60000|        3|      USA|  1|   John|  Male| 28| 60000|        3|      USA|\n",
            "|  2|   Jane|Female| 32| 75000|        0|   Canada|  2|   Jane|Female| 32| 75000|        0|   Canada|\n",
            "|  3|Michael|  Male| 22| 45000|        2|       UK|  3|Michael|  Male| 22| 45000|        2|       UK|\n",
            "|  4|  Emily|Female| 40| 90000|        1|Australia|  4|  Emily|Female| 40| 90000|        1|Australia|\n",
            "+---+-------+------+---+------+---------+---------+---+-------+------+---+------+---------+---------+\n",
            "only showing top 4 rows\n",
            "\n",
            "anti join\n",
            "+---+----+------+---+------+---------+-------+\n",
            "| id|name|gender|age|salary|purchased|country|\n",
            "+---+----+------+---+------+---------+-------+\n",
            "+---+----+------+---+------+---------+-------+\n",
            "\n",
            "cross join\n",
            "+---+-------+------+---+------+---------+---------+---+-------+------+---+------+---------+---------+\n",
            "| id|   name|gender|age|salary|purchased|  country| id|   name|gender|age|salary|purchased|  country|\n",
            "+---+-------+------+---+------+---------+---------+---+-------+------+---+------+---------+---------+\n",
            "|  1|   John|  Male| 28| 60000|        3|      USA|  1|   John|  Male| 28| 60000|        3|      USA|\n",
            "|  2|   Jane|Female| 32| 75000|        0|   Canada|  2|   Jane|Female| 32| 75000|        0|   Canada|\n",
            "|  3|Michael|  Male| 22| 45000|        2|       UK|  3|Michael|  Male| 22| 45000|        2|       UK|\n",
            "|  4|  Emily|Female| 40| 90000|        1|Australia|  4|  Emily|Female| 40| 90000|        1|Australia|\n",
            "+---+-------+------+---+------+---------+---------+---+-------+------+---+------+---------+---------+\n",
            "only showing top 4 rows\n",
            "\n"
          ]
        }
      ]
    }
  ]
}
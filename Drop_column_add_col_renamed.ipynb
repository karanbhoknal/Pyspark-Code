{
  "nbformat": 4,
  "nbformat_minor": 0,
  "metadata": {
    "colab": {
      "provenance": [],
      "authorship_tag": "ABX9TyPT+unxdMyYsGrg90j3iEyT"
    },
    "kernelspec": {
      "name": "python3",
      "display_name": "Python 3"
    },
    "language_info": {
      "name": "python"
    }
  },
  "cells": [
    {
      "cell_type": "code",
      "execution_count": 1,
      "metadata": {
        "colab": {
          "base_uri": "https://localhost:8080/"
        },
        "id": "LUBoh4cFlxxl",
        "outputId": "a3da110f-ea02-41ea-e075-3613bd8448cd"
      },
      "outputs": [
        {
          "output_type": "stream",
          "name": "stdout",
          "text": [
            "Requirement already satisfied: pyspark in /usr/local/lib/python3.11/dist-packages (3.5.5)\n",
            "Requirement already satisfied: py4j==0.10.9.7 in /usr/local/lib/python3.11/dist-packages (from pyspark) (0.10.9.7)\n"
          ]
        }
      ],
      "source": [
        "pip install pyspark"
      ]
    },
    {
      "cell_type": "code",
      "source": [
        "from pyspark.sql import SparkSession\n",
        "from pyspark.sql.functions import*\n",
        "\n",
        "# initalize sparkContext\n",
        "spark = SparkSession.builder.appName(\"PySpark_Tutorial\").getOrCreate()\n",
        "\n",
        "# reda csv file\n",
        "print(\"Sample data\")\n",
        "df=spark.read.csv(\"/content/sample_data/data1.csv.csv\",header=True,inferSchema=True)\n",
        "df.show(4)\n",
        "\n",
        "# peforme the add ,drop,and rename column\n",
        "\n",
        "print(\"drop\")\n",
        "df_drop=df.drop(\"name\",\"age\")\n",
        "df_drop.show(4)\n",
        "\n",
        "print(\"add column\")\n",
        "df_add_column=df.withColumn(\"fullname\",lit(\"Tanaji Malusare\"))\n",
        "df_add_column.show(4)\n",
        "\n",
        "print(\"rename column \")\n",
        "df_renamed_column=df.withColumnRenamed(\"name\",\"fullname\")\n",
        "df_renamed_column.show(4)"
      ],
      "metadata": {
        "colab": {
          "base_uri": "https://localhost:8080/"
        },
        "id": "wJM03Kjvl2sP",
        "outputId": "cea69b92-07ac-47a4-c4e3-9d71fc27fd60"
      },
      "execution_count": 27,
      "outputs": [
        {
          "output_type": "stream",
          "name": "stdout",
          "text": [
            "Sample data\n",
            "+---+-------+------+---+------+---------+---------+\n",
            "| id|   name|gender|age|salary|purchased|  country|\n",
            "+---+-------+------+---+------+---------+---------+\n",
            "|  1|   John|  Male| 28| 60000|        3|      USA|\n",
            "|  2|   Jane|Female| 32| 75000|        0|   Canada|\n",
            "|  3|Michael|  Male| 22| 45000|        2|       UK|\n",
            "|  4|  Emily|Female| 40| 90000|        1|Australia|\n",
            "+---+-------+------+---+------+---------+---------+\n",
            "only showing top 4 rows\n",
            "\n",
            "drop\n",
            "+---+------+------+---------+---------+\n",
            "| id|gender|salary|purchased|  country|\n",
            "+---+------+------+---------+---------+\n",
            "|  1|  Male| 60000|        3|      USA|\n",
            "|  2|Female| 75000|        0|   Canada|\n",
            "|  3|  Male| 45000|        2|       UK|\n",
            "|  4|Female| 90000|        1|Australia|\n",
            "+---+------+------+---------+---------+\n",
            "only showing top 4 rows\n",
            "\n",
            "add column\n",
            "+---+-------+------+---+------+---------+---------+---------------+\n",
            "| id|   name|gender|age|salary|purchased|  country|       fullname|\n",
            "+---+-------+------+---+------+---------+---------+---------------+\n",
            "|  1|   John|  Male| 28| 60000|        3|      USA|Tanaji Malusare|\n",
            "|  2|   Jane|Female| 32| 75000|        0|   Canada|Tanaji Malusare|\n",
            "|  3|Michael|  Male| 22| 45000|        2|       UK|Tanaji Malusare|\n",
            "|  4|  Emily|Female| 40| 90000|        1|Australia|Tanaji Malusare|\n",
            "+---+-------+------+---+------+---------+---------+---------------+\n",
            "only showing top 4 rows\n",
            "\n",
            "rename column \n",
            "+---+--------+------+---+------+---------+---------+\n",
            "| id|fullname|gender|age|salary|purchased|  country|\n",
            "+---+--------+------+---+------+---------+---------+\n",
            "|  1|    John|  Male| 28| 60000|        3|      USA|\n",
            "|  2|    Jane|Female| 32| 75000|        0|   Canada|\n",
            "|  3| Michael|  Male| 22| 45000|        2|       UK|\n",
            "|  4|   Emily|Female| 40| 90000|        1|Australia|\n",
            "+---+--------+------+---+------+---------+---------+\n",
            "only showing top 4 rows\n",
            "\n"
          ]
        }
      ]
    }
  ]
}
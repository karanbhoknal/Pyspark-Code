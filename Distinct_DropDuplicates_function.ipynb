{
  "nbformat": 4,
  "nbformat_minor": 0,
  "metadata": {
    "colab": {
      "provenance": [],
      "authorship_tag": "ABX9TyOkHWXCfaOGa28eEWBLYaMr"
    },
    "kernelspec": {
      "name": "python3",
      "display_name": "Python 3"
    },
    "language_info": {
      "name": "python"
    }
  },
  "cells": [
    {
      "cell_type": "code",
      "execution_count": 1,
      "metadata": {
        "colab": {
          "base_uri": "https://localhost:8080/"
        },
        "id": "LUBoh4cFlxxl",
        "outputId": "a3da110f-ea02-41ea-e075-3613bd8448cd"
      },
      "outputs": [
        {
          "output_type": "stream",
          "name": "stdout",
          "text": [
            "Requirement already satisfied: pyspark in /usr/local/lib/python3.11/dist-packages (3.5.5)\n",
            "Requirement already satisfied: py4j==0.10.9.7 in /usr/local/lib/python3.11/dist-packages (from pyspark) (0.10.9.7)\n"
          ]
        }
      ],
      "source": [
        "pip install pyspark"
      ]
    },
    {
      "cell_type": "code",
      "source": [
        "from pyspark.sql import SparkSession\n",
        "from pyspark.sql.functions import*\n",
        "\n",
        "# initalize sparkContext\n",
        "spark = SparkSession.builder.appName(\"PySpark_Tutorial\").getOrCreate()\n",
        "\n",
        "# given a dataframe df with column id,name and salary\n",
        "# write a pyspark code to filter rows where salary is greater than 5000 and select only the name column\n",
        "\n",
        "# reda csv file\n",
        "print(\"Sample data\")\n",
        "data=(\n",
        "    [1,\"Tanaji Malusare\",2000],\n",
        "    [2,\"Maloji baba\",3000],\n",
        "    [3,\"Kalki\",34000],\n",
        "    [4,\"SHiva kashid\",45000],\n",
        "    [3,\"Kalki\",34000],\n",
        ")\n",
        "\n",
        "# defien schema\n",
        "schema=[\"id\",\"name\",\"salary\"]\n",
        "\n",
        "# cretae dstaframe base on data\n",
        "df=spark.createDataFrame(data,schema)\n",
        "df.show()\n",
        "\n",
        "# performe the answer here\n",
        "# Drop duplicates\n",
        "\n",
        "# write pyspark code to remove duplicates rows based on using specific column\n",
        "\n",
        "print(\"Remove Duplicates using Distinct()\")\n",
        "df_distinct=df.distinct()\n",
        "df_distinct.show()\n",
        "\n",
        "\n",
        "print(\"removes duplicates based on the name & salary\")\n",
        "df_distinct_name_salary=df.dropDuplicates([\"name\",\"salary\"])\n",
        "df_distinct_name_salary.show()\n",
        "\n",
        "# Using groupBy and agg()\n",
        "# This method groups data by specific column  and then  aggregated to remove duplicates\n",
        "\n",
        "Group_by=df.groupBy(\"name\",\"salary\").agg(count(\"id\").alias(\"count\"),max(\"salary\").alias(\"max\"))\n",
        "Group_by.show()"
      ],
      "metadata": {
        "colab": {
          "base_uri": "https://localhost:8080/"
        },
        "id": "wJM03Kjvl2sP",
        "outputId": "a8824a3e-7999-4c2a-c79b-b1ed03c146fd"
      },
      "execution_count": 41,
      "outputs": [
        {
          "output_type": "stream",
          "name": "stdout",
          "text": [
            "Sample data\n",
            "+---+---------------+------+\n",
            "| id|           name|salary|\n",
            "+---+---------------+------+\n",
            "|  1|Tanaji Malusare|  2000|\n",
            "|  2|    Maloji baba|  3000|\n",
            "|  3|          Kalki| 34000|\n",
            "|  4|   SHiva kashid| 45000|\n",
            "|  3|          Kalki| 34000|\n",
            "+---+---------------+------+\n",
            "\n",
            "Remove Duplicates using Distinct()\n",
            "+---+---------------+------+\n",
            "| id|           name|salary|\n",
            "+---+---------------+------+\n",
            "|  2|    Maloji baba|  3000|\n",
            "|  1|Tanaji Malusare|  2000|\n",
            "|  4|   SHiva kashid| 45000|\n",
            "|  3|          Kalki| 34000|\n",
            "+---+---------------+------+\n",
            "\n",
            "removes duplicates based on the name & salary\n",
            "+---+---------------+------+\n",
            "| id|           name|salary|\n",
            "+---+---------------+------+\n",
            "|  1|Tanaji Malusare|  2000|\n",
            "|  2|    Maloji baba|  3000|\n",
            "|  3|          Kalki| 34000|\n",
            "|  4|   SHiva kashid| 45000|\n",
            "+---+---------------+------+\n",
            "\n",
            "+---------------+------+-----+-----+\n",
            "|           name|salary|count|  max|\n",
            "+---------------+------+-----+-----+\n",
            "|Tanaji Malusare|  2000|    1| 2000|\n",
            "|    Maloji baba|  3000|    1| 3000|\n",
            "|          Kalki| 34000|    2|34000|\n",
            "|   SHiva kashid| 45000|    1|45000|\n",
            "+---------------+------+-----+-----+\n",
            "\n"
          ]
        }
      ]
    }
  ]
}
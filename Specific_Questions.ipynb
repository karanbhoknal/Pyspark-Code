{
  "nbformat": 4,
  "nbformat_minor": 0,
  "metadata": {
    "colab": {
      "provenance": [],
      "authorship_tag": "ABX9TyMgkU/ADb+rjUQyxloXrVOp"
    },
    "kernelspec": {
      "name": "python3",
      "display_name": "Python 3"
    },
    "language_info": {
      "name": "python"
    }
  },
  "cells": [
    {
      "cell_type": "code",
      "execution_count": 1,
      "metadata": {
        "colab": {
          "base_uri": "https://localhost:8080/"
        },
        "id": "LUBoh4cFlxxl",
        "outputId": "a3da110f-ea02-41ea-e075-3613bd8448cd"
      },
      "outputs": [
        {
          "output_type": "stream",
          "name": "stdout",
          "text": [
            "Requirement already satisfied: pyspark in /usr/local/lib/python3.11/dist-packages (3.5.5)\n",
            "Requirement already satisfied: py4j==0.10.9.7 in /usr/local/lib/python3.11/dist-packages (from pyspark) (0.10.9.7)\n"
          ]
        }
      ],
      "source": [
        "pip install pyspark"
      ]
    },
    {
      "cell_type": "code",
      "source": [
        "from pyspark.sql import SparkSession\n",
        "from pyspark.sql.functions import*\n",
        "\n",
        "# initalize sparkContext\n",
        "spark = SparkSession.builder.appName(\"PySpark_Tutorial\").getOrCreate()\n",
        "\n",
        "# given a dataframe df with column id,name and salary\n",
        "# write a pyspark code to filter rows where salary is greater than 5000 and select only the name column\n",
        "\n",
        "# reda csv file\n",
        "print(\"Sample data\")\n",
        "data=(\n",
        "    [1,\"Tanaji Malusare\",2000],\n",
        "    [2,\"Maloji baba\",3000],\n",
        "    [3,\"KAlki\",34000],\n",
        "    [4,\"SHiva kashid\",45000],\n",
        "    [5,\"karn \",34500],\n",
        ")\n",
        "\n",
        "# defien schema\n",
        "schema=[\"id\",\"name\",\"salary\"]\n",
        "\n",
        "# cretae dstaframe base on data\n",
        "df=spark.createDataFrame(data,schema)\n",
        "df.show()\n",
        "\n",
        "# performe the answer here\n",
        "# write a pyspark code to filter rows where salary is greater than 5000 and select only the name column\n",
        "df_filter=df.filter(col(\"salary\")>5000).select(\"name\")\n",
        "df_filter.show()\n",
        "\n",
        "\n",
        "# create new column  using arithmatic operations create new col bonus which is 10 % of the salary\n",
        "\n",
        "df_salary=df.withColumn(\"bonus\",col(\"salary\")*10)\n",
        "df_salary.show()\n",
        "\n",
        "# task\n",
        "# given a datafram with two column col 1 and col2 perform the folling writhmatic operations\n",
        "# Add the values of col1 and col2\n",
        "# subtract values of col1 and col2\n",
        "# devide values of col1 and col2\n",
        "# multiplies values of col1 and col2\n",
        "\n",
        "\n",
        "# performe the oprations\n",
        "df_oprations=df.withColumn(\"addition\",col(\"id\")+col(\"salary\"))\\\n",
        ".withColumn(\"subtraction\",col(\"id\")-col(\"salary\"))\\\n",
        ".withColumn(\"devide\",col(\"id\")/col(\"salary\"))\\\n",
        ".withColumn(\"multiplies\",col(\"id\")*col(\"salary\"))\n",
        "df_oprations.show()\n",
        "\n"
      ],
      "metadata": {
        "colab": {
          "base_uri": "https://localhost:8080/"
        },
        "id": "wJM03Kjvl2sP",
        "outputId": "6ff74d1a-3993-4b15-d1e8-947c73e0dbfd"
      },
      "execution_count": 32,
      "outputs": [
        {
          "output_type": "stream",
          "name": "stdout",
          "text": [
            "Sample data\n",
            "+---+---------------+------+\n",
            "| id|           name|salary|\n",
            "+---+---------------+------+\n",
            "|  1|Tanaji Malusare|  2000|\n",
            "|  2|    Maloji baba|  3000|\n",
            "|  3|          KAlki| 34000|\n",
            "|  4|   SHiva kashid| 45000|\n",
            "|  5|          karn | 34500|\n",
            "+---+---------------+------+\n",
            "\n",
            "+------------+\n",
            "|        name|\n",
            "+------------+\n",
            "|       KAlki|\n",
            "|SHiva kashid|\n",
            "|       karn |\n",
            "+------------+\n",
            "\n",
            "+---+---------------+------+------+\n",
            "| id|           name|salary| bonus|\n",
            "+---+---------------+------+------+\n",
            "|  1|Tanaji Malusare|  2000| 20000|\n",
            "|  2|    Maloji baba|  3000| 30000|\n",
            "|  3|          KAlki| 34000|340000|\n",
            "|  4|   SHiva kashid| 45000|450000|\n",
            "|  5|          karn | 34500|345000|\n",
            "+---+---------------+------+------+\n",
            "\n",
            "+---+---------------+------+--------+-----------+--------------------+----------+\n",
            "| id|           name|salary|addition|subtraction|              devide|multiplies|\n",
            "+---+---------------+------+--------+-----------+--------------------+----------+\n",
            "|  1|Tanaji Malusare|  2000|    2001|      -1999|              5.0E-4|      2000|\n",
            "|  2|    Maloji baba|  3000|    3002|      -2998|6.666666666666666E-4|      6000|\n",
            "|  3|          KAlki| 34000|   34003|     -33997|8.823529411764706E-5|    102000|\n",
            "|  4|   SHiva kashid| 45000|   45004|     -44996|8.888888888888889E-5|    180000|\n",
            "|  5|          karn | 34500|   34505|     -34495|1.449275362318840...|    172500|\n",
            "+---+---------------+------+--------+-----------+--------------------+----------+\n",
            "\n"
          ]
        }
      ]
    }
  ]
}
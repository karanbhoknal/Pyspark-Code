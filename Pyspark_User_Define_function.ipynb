{
  "nbformat": 4,
  "nbformat_minor": 0,
  "metadata": {
    "colab": {
      "provenance": [],
      "authorship_tag": "ABX9TyN/kmY0+2lxYn4Ldept+bi9"
    },
    "kernelspec": {
      "name": "python3",
      "display_name": "Python 3"
    },
    "language_info": {
      "name": "python"
    }
  },
  "cells": [
    {
      "cell_type": "code",
      "execution_count": 1,
      "metadata": {
        "colab": {
          "base_uri": "https://localhost:8080/"
        },
        "id": "k-SEjrjc_v2P",
        "outputId": "38651e47-0a15-4dd5-cacb-de2ae0d7e9d8"
      },
      "outputs": [
        {
          "output_type": "stream",
          "name": "stdout",
          "text": [
            "Requirement already satisfied: pyspark in /usr/local/lib/python3.11/dist-packages (3.5.5)\n",
            "Requirement already satisfied: py4j==0.10.9.7 in /usr/local/lib/python3.11/dist-packages (from pyspark) (0.10.9.7)\n"
          ]
        }
      ],
      "source": [
        "pip install pyspark"
      ]
    },
    {
      "cell_type": "code",
      "source": [
        "from pyspark.sql import SparkSession\n",
        "from pyspark.sql.functions import*\n",
        "\n",
        "\n",
        "# initialize spark session\n",
        "spark=SparkSession.builder.appName(\"pyspark Practice\").getOrCreate()\n",
        "\n",
        "# sample data read csv file\n",
        "\n",
        "print(\"read CSV file\")\n",
        "df=spark.read.csv(\"/content/sample_data/data1.csv.csv\",header=True,inferSchema=True)\n",
        "df.show(4)\n",
        "\n",
        "# let's performe the the User define funcitons here\n",
        "print(\"USER Define Functions\")\n",
        "\n",
        "# define function\n",
        "def convert_into_upper(name):\n",
        "        return name.upper()\n",
        "\n",
        "\n",
        "# register a dataframe\n",
        "convert_into_upper_udf=udf(convert_into_upper,StringType())\n",
        "\n",
        "# return new dataframe and call the user define the function\n",
        "df_new=df.withColumn(\"upper_name\",convert_into_upper_udf(col(\"name\")))\n",
        "df_new.show(4)\n",
        "\n",
        "# here lowercase user define function performe get on e specific column\n",
        "\n",
        "print(\"Lower user define function take one specific column\")\n",
        "\n",
        "\n",
        "# define the function using python\n",
        "def convert_into_lower(name):\n",
        "          return name.lower()\n",
        "\n",
        "\n",
        "\n",
        "# register with udf\n",
        "convert_into_lower_udf=udf(convert_into_lower,StringType())\n",
        "\n",
        "# create dataframe and call the udf\n",
        "df_udf=df.withColumn(\"lower_name\",convert_into_lower_udf(col(\"name\")))\n",
        "df_udf.show(4)"
      ],
      "metadata": {
        "colab": {
          "base_uri": "https://localhost:8080/"
        },
        "id": "SzpRmg3E_ybl",
        "outputId": "97f2feda-124f-412a-91b5-b5053f6561bf"
      },
      "execution_count": 8,
      "outputs": [
        {
          "output_type": "stream",
          "name": "stdout",
          "text": [
            "read CSV file\n",
            "+---+-------+------+---+------+---------+---------+\n",
            "| id|   name|gender|age|salary|purchased|  country|\n",
            "+---+-------+------+---+------+---------+---------+\n",
            "|  1|   John|  Male| 28| 60000|        3|      USA|\n",
            "|  2|   Jane|Female| 32| 75000|        0|   Canada|\n",
            "|  3|Michael|  Male| 22| 45000|        2|       UK|\n",
            "|  4|  Emily|Female| 40| 90000|        1|Australia|\n",
            "+---+-------+------+---+------+---------+---------+\n",
            "only showing top 4 rows\n",
            "\n",
            "USER Define Functions\n",
            "+---+-------+------+---+------+---------+---------+----------+\n",
            "| id|   name|gender|age|salary|purchased|  country|upper_name|\n",
            "+---+-------+------+---+------+---------+---------+----------+\n",
            "|  1|   John|  Male| 28| 60000|        3|      USA|      JOHN|\n",
            "|  2|   Jane|Female| 32| 75000|        0|   Canada|      JANE|\n",
            "|  3|Michael|  Male| 22| 45000|        2|       UK|   MICHAEL|\n",
            "|  4|  Emily|Female| 40| 90000|        1|Australia|     EMILY|\n",
            "+---+-------+------+---+------+---------+---------+----------+\n",
            "only showing top 4 rows\n",
            "\n",
            "Lower user define function take one specific column\n",
            "+---+-------+------+---+------+---------+---------+----------+\n",
            "| id|   name|gender|age|salary|purchased|  country|lower_name|\n",
            "+---+-------+------+---+------+---------+---------+----------+\n",
            "|  1|   John|  Male| 28| 60000|        3|      USA|      john|\n",
            "|  2|   Jane|Female| 32| 75000|        0|   Canada|      jane|\n",
            "|  3|Michael|  Male| 22| 45000|        2|       UK|   michael|\n",
            "|  4|  Emily|Female| 40| 90000|        1|Australia|     emily|\n",
            "+---+-------+------+---+------+---------+---------+----------+\n",
            "only showing top 4 rows\n",
            "\n"
          ]
        }
      ]
    }
  ]
}
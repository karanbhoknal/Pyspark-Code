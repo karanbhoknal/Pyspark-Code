{
  "nbformat": 4,
  "nbformat_minor": 0,
  "metadata": {
    "colab": {
      "provenance": [],
      "authorship_tag": "ABX9TyMdUzxbby4yNbh82AxYPTtJ"
    },
    "kernelspec": {
      "name": "python3",
      "display_name": "Python 3"
    },
    "language_info": {
      "name": "python"
    }
  },
  "cells": [
    {
      "cell_type": "code",
      "execution_count": 1,
      "metadata": {
        "colab": {
          "base_uri": "https://localhost:8080/"
        },
        "id": "LUBoh4cFlxxl",
        "outputId": "a3da110f-ea02-41ea-e075-3613bd8448cd"
      },
      "outputs": [
        {
          "output_type": "stream",
          "name": "stdout",
          "text": [
            "Requirement already satisfied: pyspark in /usr/local/lib/python3.11/dist-packages (3.5.5)\n",
            "Requirement already satisfied: py4j==0.10.9.7 in /usr/local/lib/python3.11/dist-packages (from pyspark) (0.10.9.7)\n"
          ]
        }
      ],
      "source": [
        "pip install pyspark"
      ]
    },
    {
      "cell_type": "code",
      "source": [
        "from pyspark.sql import SparkSession\n",
        "from pyspark.sql.functions import*\n",
        "\n",
        "# initalize sparkContext\n",
        "spark = SparkSession.builder.appName(\"PySpark_Tutorial\").getOrCreate()\n",
        "sc = spark.sparkContext\n",
        "sc\n",
        "# reda csv file\n",
        "print(\"Sample data\")\n",
        "df=spark.read.csv(\"/content/sample_data/data1.csv.csv\",header=True,inferSchema=True)\n",
        "df.show(4)\n",
        "\n",
        "\n",
        "print(\"Second data\")\n",
        "df1=spark.read.csv(\"/content/sample_data/data1.csv.csv\",header=True,inferSchema=True)\n",
        "df1.show(4)\n",
        "\n",
        "\n",
        "\n",
        "# Let's performed the oprations here union and unionAll ,even expcet and interxcpet\n",
        "print(\"union\")\n",
        "df.union(df1).show(4)\n",
        "\n",
        "print(\"unionAll\")\n",
        "df.unionAll(df1).show(4)\n",
        "\n",
        "print(\"intersect\")\n",
        "df.intersect(df1).show(4)\n",
        "\n",
        "print(\"subtract\")\n",
        "df.subtract(df1).show(4)\n",
        "\n"
      ],
      "metadata": {
        "colab": {
          "base_uri": "https://localhost:8080/"
        },
        "id": "wJM03Kjvl2sP",
        "outputId": "e681430e-4cf3-4de8-e23e-d9b382100ac0"
      },
      "execution_count": 24,
      "outputs": [
        {
          "output_type": "stream",
          "name": "stdout",
          "text": [
            "Sample data\n",
            "+---+-------+------+---+------+---------+---------+\n",
            "| id|   name|gender|age|salary|purchased|  country|\n",
            "+---+-------+------+---+------+---------+---------+\n",
            "|  1|   John|  Male| 28| 60000|        3|      USA|\n",
            "|  2|   Jane|Female| 32| 75000|        0|   Canada|\n",
            "|  3|Michael|  Male| 22| 45000|        2|       UK|\n",
            "|  4|  Emily|Female| 40| 90000|        1|Australia|\n",
            "+---+-------+------+---+------+---------+---------+\n",
            "only showing top 4 rows\n",
            "\n",
            "Second data\n",
            "+---+-------+------+---+------+---------+---------+\n",
            "| id|   name|gender|age|salary|purchased|  country|\n",
            "+---+-------+------+---+------+---------+---------+\n",
            "|  1|   John|  Male| 28| 60000|        3|      USA|\n",
            "|  2|   Jane|Female| 32| 75000|        0|   Canada|\n",
            "|  3|Michael|  Male| 22| 45000|        2|       UK|\n",
            "|  4|  Emily|Female| 40| 90000|        1|Australia|\n",
            "+---+-------+------+---+------+---------+---------+\n",
            "only showing top 4 rows\n",
            "\n",
            "union\n",
            "+---+-------+------+---+------+---------+---------+\n",
            "| id|   name|gender|age|salary|purchased|  country|\n",
            "+---+-------+------+---+------+---------+---------+\n",
            "|  1|   John|  Male| 28| 60000|        3|      USA|\n",
            "|  2|   Jane|Female| 32| 75000|        0|   Canada|\n",
            "|  3|Michael|  Male| 22| 45000|        2|       UK|\n",
            "|  4|  Emily|Female| 40| 90000|        1|Australia|\n",
            "+---+-------+------+---+------+---------+---------+\n",
            "only showing top 4 rows\n",
            "\n",
            "unionAll\n",
            "+---+-------+------+---+------+---------+---------+\n",
            "| id|   name|gender|age|salary|purchased|  country|\n",
            "+---+-------+------+---+------+---------+---------+\n",
            "|  1|   John|  Male| 28| 60000|        3|      USA|\n",
            "|  2|   Jane|Female| 32| 75000|        0|   Canada|\n",
            "|  3|Michael|  Male| 22| 45000|        2|       UK|\n",
            "|  4|  Emily|Female| 40| 90000|        1|Australia|\n",
            "+---+-------+------+---+------+---------+---------+\n",
            "only showing top 4 rows\n",
            "\n",
            "intersect\n",
            "+---+-----+------+---+------+---------+---------+\n",
            "| id| name|gender|age|salary|purchased|  country|\n",
            "+---+-----+------+---+------+---------+---------+\n",
            "| 22| Emma|Female| 29| 60000|        1|   Canada|\n",
            "|  4|Emily|Female| 40| 90000|        1|Australia|\n",
            "|  1| John|  Male| 28| 60000|        3|      USA|\n",
            "| 24|  Ava|Female| 27| 57000|        2|       UK|\n",
            "+---+-----+------+---+------+---------+---------+\n",
            "only showing top 4 rows\n",
            "\n",
            "subtract\n",
            "+---+----+------+---+------+---------+-------+\n",
            "| id|name|gender|age|salary|purchased|country|\n",
            "+---+----+------+---+------+---------+-------+\n",
            "+---+----+------+---+------+---------+-------+\n",
            "\n"
          ]
        }
      ]
    }
  ]
}
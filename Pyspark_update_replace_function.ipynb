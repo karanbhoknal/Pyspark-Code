{
 "cells": [
  {
   "cell_type": "code",
   "execution_count": null,
   "metadata": {},
   "outputs": [],
   "source": [
    "from pyspark.sql import SparkSession\n",
    "from pyspark.sql.functions import*\n",
    "\n",
    "\n",
    "# initialize spark session\n",
    "spark=SparkSession.builder.appName(\"pyspark Practice\").getOrCreate()\n",
    "\n",
    "# sample data read csv file \n",
    "\n",
    "print(\"read CSV file\")\n",
    "df=spark.read.csv(\"/content/sample_data/data1.csv.csv\",header=True,inferSchema=True)\n",
    "df.show(4)\n",
    "\n",
    "\n",
    "# right now performe the update command  with using above sorces file \n",
    "print(\"Update ()\")\n",
    "df_update=df.withColumn(\"name\",\n",
    "                        when(col(\"name\")==\"John\",\"Tanaji Mlausare\").\n",
    "                        otherwise(col(\"name\")))\\\n",
    "                        .withColumn(\"name\",\n",
    "                                    when(col(\"name\")==\"Jane\",\"Baji Despande\").\n",
    "                                    otherwise(col(\"name\")))\\\n",
    "                                    .withColumn(\"name\",\n",
    "                                                when(col(\"name\")==\"Michael\",\"Suryaji Malusare\").\n",
    "                                                otherwise(col(\"name\")))\\\n",
    "                                                .withColumn(\"name\",\n",
    "                                                            when(col(\"name\")==\"Emily\",\"Shiva Kashid\").\n",
    "                                                            otherwise(col(\"name\")))\n",
    "                                              \n",
    "                        \n",
    "df_update.show(4)\n",
    "\n",
    "# replace command\n",
    "print(\"Replace()\")\n",
    "df_replace=df.replace(\"John\",\"MurarBaji Despande\")\n",
    "df_replace.show(4)\n",
    "\n"
   ]
  }
 ],
 "metadata": {
  "language_info": {
   "name": "python"
  }
 },
 "nbformat": 4,
 "nbformat_minor": 2
}

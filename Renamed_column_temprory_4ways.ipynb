{
  "nbformat": 4,
  "nbformat_minor": 0,
  "metadata": {
    "colab": {
      "provenance": [],
      "authorship_tag": "ABX9TyPq/U+jXZ3G3wn6LoyOv/OR"
    },
    "kernelspec": {
      "name": "python3",
      "display_name": "Python 3"
    },
    "language_info": {
      "name": "python"
    }
  },
  "cells": [
    {
      "cell_type": "code",
      "execution_count": 1,
      "metadata": {
        "colab": {
          "base_uri": "https://localhost:8080/"
        },
        "id": "LUBoh4cFlxxl",
        "outputId": "a3da110f-ea02-41ea-e075-3613bd8448cd"
      },
      "outputs": [
        {
          "output_type": "stream",
          "name": "stdout",
          "text": [
            "Requirement already satisfied: pyspark in /usr/local/lib/python3.11/dist-packages (3.5.5)\n",
            "Requirement already satisfied: py4j==0.10.9.7 in /usr/local/lib/python3.11/dist-packages (from pyspark) (0.10.9.7)\n"
          ]
        }
      ],
      "source": [
        "pip install pyspark"
      ]
    },
    {
      "cell_type": "code",
      "source": [
        "from pyspark.sql import SparkSession\n",
        "from pyspark.sql.functions import*\n",
        "\n",
        "# initalize sparkContext\n",
        "spark = SparkSession.builder.appName(\"PySpark_Tutorial\").getOrCreate()\n",
        "sc = spark.sparkContext\n",
        "sc\n",
        "# reda csv file\n",
        "df=spark.read.csv(\"/content/sample_data/data1.csv.csv\",header=True,inferSchema=True)\n",
        "df.show(4)\n",
        "\n",
        "\n",
        "# performe the basic oprations on datafram like rename column name we can use different way\n",
        "print(\"rename the column\")\n",
        "print(\"withColumnRenamed()\")\n",
        "df.withColumnRenamed(\"name\",\"fullname\").show(4)\n",
        "df.withColumnRenamed(\"age\",\"age_number\").show(4)\n",
        "\n",
        "\n",
        "# selectexpr()\n",
        "print(\"selectExpr()\")\n",
        "df.selectExpr(\"id as idnumber\",\"name as fullname\",\"age as age_number\",\"gender as genderindentify\",\"salary as money\",\"purchased as puri\",\"country as countires\").show(4)\n",
        "\n",
        "# Alias()\n",
        "print(\"alias\")\n",
        "df.select(col(\"name\").alias(\"fullname\"), col(\"age\").alias(\"number\")).show(4)\n",
        "\n",
        "#toDF()\n",
        "print(\"todf()\")\n",
        "df.toDF(\"id\",\"fullname\",\"gen\",\"age_number\",\"money\",\"pur\",\"countries\").show(4)\n",
        "\n",
        "#add column with sepcific column using like salary\n",
        "df.withColumn(\"bonus\",col(\"salary\")*10).show(4)\n",
        "\n",
        "\n",
        "#"
      ],
      "metadata": {
        "colab": {
          "base_uri": "https://localhost:8080/"
        },
        "id": "wJM03Kjvl2sP",
        "outputId": "6d64f6b7-a1c4-4cb4-a788-3848dec5c0a3"
      },
      "execution_count": 12,
      "outputs": [
        {
          "output_type": "stream",
          "name": "stdout",
          "text": [
            "+---+-------+------+---+------+---------+---------+\n",
            "| id|   name|gender|age|salary|purchased|  country|\n",
            "+---+-------+------+---+------+---------+---------+\n",
            "|  1|   John|  Male| 28| 60000|        3|      USA|\n",
            "|  2|   Jane|Female| 32| 75000|        0|   Canada|\n",
            "|  3|Michael|  Male| 22| 45000|        2|       UK|\n",
            "|  4|  Emily|Female| 40| 90000|        1|Australia|\n",
            "+---+-------+------+---+------+---------+---------+\n",
            "only showing top 4 rows\n",
            "\n",
            "rename the column\n",
            "withColumnRenamed()\n",
            "+---+--------+------+---+------+---------+---------+\n",
            "| id|fullname|gender|age|salary|purchased|  country|\n",
            "+---+--------+------+---+------+---------+---------+\n",
            "|  1|    John|  Male| 28| 60000|        3|      USA|\n",
            "|  2|    Jane|Female| 32| 75000|        0|   Canada|\n",
            "|  3| Michael|  Male| 22| 45000|        2|       UK|\n",
            "|  4|   Emily|Female| 40| 90000|        1|Australia|\n",
            "+---+--------+------+---+------+---------+---------+\n",
            "only showing top 4 rows\n",
            "\n",
            "+---+-------+------+----------+------+---------+---------+\n",
            "| id|   name|gender|age_number|salary|purchased|  country|\n",
            "+---+-------+------+----------+------+---------+---------+\n",
            "|  1|   John|  Male|        28| 60000|        3|      USA|\n",
            "|  2|   Jane|Female|        32| 75000|        0|   Canada|\n",
            "|  3|Michael|  Male|        22| 45000|        2|       UK|\n",
            "|  4|  Emily|Female|        40| 90000|        1|Australia|\n",
            "+---+-------+------+----------+------+---------+---------+\n",
            "only showing top 4 rows\n",
            "\n",
            "selectExpr()\n",
            "+--------+--------+----------+---------------+-----+----+---------+\n",
            "|idnumber|fullname|age_number|genderindentify|money|puri|countires|\n",
            "+--------+--------+----------+---------------+-----+----+---------+\n",
            "|       1|    John|        28|           Male|60000|   3|      USA|\n",
            "|       2|    Jane|        32|         Female|75000|   0|   Canada|\n",
            "|       3| Michael|        22|           Male|45000|   2|       UK|\n",
            "|       4|   Emily|        40|         Female|90000|   1|Australia|\n",
            "+--------+--------+----------+---------------+-----+----+---------+\n",
            "only showing top 4 rows\n",
            "\n",
            "alias\n",
            "+--------+------+\n",
            "|fullname|number|\n",
            "+--------+------+\n",
            "|    John|    28|\n",
            "|    Jane|    32|\n",
            "| Michael|    22|\n",
            "|   Emily|    40|\n",
            "+--------+------+\n",
            "only showing top 4 rows\n",
            "\n",
            "todf()\n",
            "+---+--------+------+----------+-----+---+---------+\n",
            "| id|fullname|   gen|age_number|money|pur|countries|\n",
            "+---+--------+------+----------+-----+---+---------+\n",
            "|  1|    John|  Male|        28|60000|  3|      USA|\n",
            "|  2|    Jane|Female|        32|75000|  0|   Canada|\n",
            "|  3| Michael|  Male|        22|45000|  2|       UK|\n",
            "|  4|   Emily|Female|        40|90000|  1|Australia|\n",
            "+---+--------+------+----------+-----+---+---------+\n",
            "only showing top 4 rows\n",
            "\n",
            "+---+-------+------+---+------+---------+---------+------+\n",
            "| id|   name|gender|age|salary|purchased|  country| bonus|\n",
            "+---+-------+------+---+------+---------+---------+------+\n",
            "|  1|   John|  Male| 28| 60000|        3|      USA|600000|\n",
            "|  2|   Jane|Female| 32| 75000|        0|   Canada|750000|\n",
            "|  3|Michael|  Male| 22| 45000|        2|       UK|450000|\n",
            "|  4|  Emily|Female| 40| 90000|        1|Australia|900000|\n",
            "+---+-------+------+---+------+---------+---------+------+\n",
            "only showing top 4 rows\n",
            "\n"
          ]
        }
      ]
    }
  ]
}
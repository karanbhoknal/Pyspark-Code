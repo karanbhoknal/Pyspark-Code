{
  "nbformat": 4,
  "nbformat_minor": 0,
  "metadata": {
    "colab": {
      "provenance": [],
      "authorship_tag": "ABX9TyOaTxLxdMZW6x6yrEb5AVn7"
    },
    "kernelspec": {
      "name": "python3",
      "display_name": "Python 3"
    },
    "language_info": {
      "name": "python"
    }
  },
  "cells": [
    {
      "cell_type": "code",
      "execution_count": 1,
      "metadata": {
        "colab": {
          "base_uri": "https://localhost:8080/"
        },
        "id": "LUBoh4cFlxxl",
        "outputId": "a3da110f-ea02-41ea-e075-3613bd8448cd"
      },
      "outputs": [
        {
          "output_type": "stream",
          "name": "stdout",
          "text": [
            "Requirement already satisfied: pyspark in /usr/local/lib/python3.11/dist-packages (3.5.5)\n",
            "Requirement already satisfied: py4j==0.10.9.7 in /usr/local/lib/python3.11/dist-packages (from pyspark) (0.10.9.7)\n"
          ]
        }
      ],
      "source": [
        "pip install pyspark"
      ]
    },
    {
      "cell_type": "code",
      "source": [
        "from pyspark.sql import SparkSession\n",
        "from pyspark.sql.functions import*\n",
        "\n",
        "# initalize sparkContext\n",
        "spark = SparkSession.builder.appName(\"PySpark_Tutorial\").getOrCreate()\n",
        "\n",
        "# reda csv file\n",
        "print(\"Sample data\")\n",
        "df=spark.read.csv(\"/content/sample_data/data1.csv.csv\",header=True,inferSchema=True)\n",
        "df.show(4)\n",
        "\n",
        "\n",
        "print(\"json file\")\n",
        "df1=spark.read.option(\"multiline\",\"true\").json(\"/content/sample_data/anscombe.json\")\n",
        "df1.show(4)"
      ],
      "metadata": {
        "colab": {
          "base_uri": "https://localhost:8080/"
        },
        "id": "wJM03Kjvl2sP",
        "outputId": "cf17f4af-890c-4fb3-b03c-6ef2cec0c92d"
      },
      "execution_count": 25,
      "outputs": [
        {
          "output_type": "stream",
          "name": "stdout",
          "text": [
            "Sample data\n",
            "+---+-------+------+---+------+---------+---------+\n",
            "| id|   name|gender|age|salary|purchased|  country|\n",
            "+---+-------+------+---+------+---------+---------+\n",
            "|  1|   John|  Male| 28| 60000|        3|      USA|\n",
            "|  2|   Jane|Female| 32| 75000|        0|   Canada|\n",
            "|  3|Michael|  Male| 22| 45000|        2|       UK|\n",
            "|  4|  Emily|Female| 40| 90000|        1|Australia|\n",
            "+---+-------+------+---+------+---------+---------+\n",
            "only showing top 4 rows\n",
            "\n",
            "json file\n",
            "+------+----+----+\n",
            "|Series|   X|   Y|\n",
            "+------+----+----+\n",
            "|     I|10.0|8.04|\n",
            "|     I| 8.0|6.95|\n",
            "|     I|13.0|7.58|\n",
            "|     I| 9.0|8.81|\n",
            "+------+----+----+\n",
            "only showing top 4 rows\n",
            "\n"
          ]
        }
      ]
    }
  ]
}
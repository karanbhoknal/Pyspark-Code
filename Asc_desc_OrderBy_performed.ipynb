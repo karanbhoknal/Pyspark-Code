{
  "nbformat": 4,
  "nbformat_minor": 0,
  "metadata": {
    "colab": {
      "provenance": [],
      "authorship_tag": "ABX9TyOBjdXUS8gwgyk8/a2gom6v"
    },
    "kernelspec": {
      "name": "python3",
      "display_name": "Python 3"
    },
    "language_info": {
      "name": "python"
    }
  },
  "cells": [
    {
      "cell_type": "code",
      "execution_count": 1,
      "metadata": {
        "colab": {
          "base_uri": "https://localhost:8080/"
        },
        "id": "LUBoh4cFlxxl",
        "outputId": "a3da110f-ea02-41ea-e075-3613bd8448cd"
      },
      "outputs": [
        {
          "output_type": "stream",
          "name": "stdout",
          "text": [
            "Requirement already satisfied: pyspark in /usr/local/lib/python3.11/dist-packages (3.5.5)\n",
            "Requirement already satisfied: py4j==0.10.9.7 in /usr/local/lib/python3.11/dist-packages (from pyspark) (0.10.9.7)\n"
          ]
        }
      ],
      "source": [
        "pip install pyspark"
      ]
    },
    {
      "cell_type": "code",
      "source": [
        "from pyspark.sql import SparkSession\n",
        "from pyspark.sql.functions import*\n",
        "\n",
        "# initalize sparkContext\n",
        "spark = SparkSession.builder.appName(\"PySpark_Tutorial\").getOrCreate()\n",
        "\n",
        "# given a dataframe df with column id,name and salary\n",
        "# write a pyspark code to filter rows where salary is greater than 5000 and select only the name column\n",
        "\n",
        "# reda csv file\n",
        "print(\"Sample data\")\n",
        "data=(\n",
        "    [1,\"Tanaji Malusare\",2000],\n",
        "    [2,\"Maloji baba\",3000],\n",
        "    [3,\"Kalki\",34000],\n",
        "    [4,\"SHiva kashid\",45000],\n",
        "    [5,\"Kalki\",34000],\n",
        ")\n",
        "\n",
        "# defien schema\n",
        "schema=[\"id\",\"name\",\"salary\"]\n",
        "\n",
        "# cretae dstaframe base on data\n",
        "df=spark.createDataFrame(data,schema)\n",
        "df.show()\n",
        "\n",
        "# Sort the data in pyspark\n",
        "print(\"asc\")\n",
        "df_ascendig=df.sort(\"name\")\n",
        "df_ascendig.show()\n",
        "\n",
        "print(\"desc\")\n",
        "df_desc=df.sort(desc(\"salary\"))\n",
        "df_desc.show()\n",
        "\n",
        "# find the higest salary by using asc and desc\n",
        "df_asc=df.orderBy(\"salary\",ascending=False)\n",
        "df_asc.show()\n",
        "\n",
        "print(\"orderby using desc\")\n",
        "df.orderBy(col(\"salary\").desc()).limit(1).show()\n",
        "\n",
        "print(\"find higest top 3 salaries\")\n",
        "df.orderBy(col(\"salary\").desc()).limit(3).show()\n",
        "\n",
        "\n",
        "print(\"find bottom  3 salaries\")\n",
        "df.orderBy(col(\"salary\").asc()).limit(3).show()\n",
        "\n",
        "# write pyspark datafram to csv files\n",
        "# create spark session\n",
        "# create sample data\n",
        "# convert into a dataframe\n",
        "# write dataframe to  csv files\n",
        "df.write.csv(\"output/sample_data\", header=True, mode=\"overwrite\")  # Save as CSV\n",
        "spark.stop()  # Stop the Spark session\n"
      ],
      "metadata": {
        "colab": {
          "base_uri": "https://localhost:8080/"
        },
        "id": "wJM03Kjvl2sP",
        "outputId": "5512586c-41d6-42b1-de39-bf062f25c1cf"
      },
      "execution_count": 58,
      "outputs": [
        {
          "output_type": "stream",
          "name": "stdout",
          "text": [
            "Sample data\n",
            "+---+---------------+------+\n",
            "| id|           name|salary|\n",
            "+---+---------------+------+\n",
            "|  1|Tanaji Malusare|  2000|\n",
            "|  2|    Maloji baba|  3000|\n",
            "|  3|          Kalki| 34000|\n",
            "|  4|   SHiva kashid| 45000|\n",
            "|  5|          Kalki| 34000|\n",
            "+---+---------------+------+\n",
            "\n",
            "asc\n",
            "+---+---------------+------+\n",
            "| id|           name|salary|\n",
            "+---+---------------+------+\n",
            "|  3|          Kalki| 34000|\n",
            "|  5|          Kalki| 34000|\n",
            "|  2|    Maloji baba|  3000|\n",
            "|  4|   SHiva kashid| 45000|\n",
            "|  1|Tanaji Malusare|  2000|\n",
            "+---+---------------+------+\n",
            "\n",
            "desc\n",
            "+---+---------------+------+\n",
            "| id|           name|salary|\n",
            "+---+---------------+------+\n",
            "|  4|   SHiva kashid| 45000|\n",
            "|  3|          Kalki| 34000|\n",
            "|  5|          Kalki| 34000|\n",
            "|  2|    Maloji baba|  3000|\n",
            "|  1|Tanaji Malusare|  2000|\n",
            "+---+---------------+------+\n",
            "\n",
            "+---+---------------+------+\n",
            "| id|           name|salary|\n",
            "+---+---------------+------+\n",
            "|  4|   SHiva kashid| 45000|\n",
            "|  3|          Kalki| 34000|\n",
            "|  5|          Kalki| 34000|\n",
            "|  2|    Maloji baba|  3000|\n",
            "|  1|Tanaji Malusare|  2000|\n",
            "+---+---------------+------+\n",
            "\n",
            "orderby using desc\n",
            "+---+------------+------+\n",
            "| id|        name|salary|\n",
            "+---+------------+------+\n",
            "|  4|SHiva kashid| 45000|\n",
            "+---+------------+------+\n",
            "\n",
            "find higest top 3 salaries\n",
            "+---+------------+------+\n",
            "| id|        name|salary|\n",
            "+---+------------+------+\n",
            "|  4|SHiva kashid| 45000|\n",
            "|  3|       Kalki| 34000|\n",
            "|  5|       Kalki| 34000|\n",
            "+---+------------+------+\n",
            "\n",
            "find bottom  3 salaries\n",
            "+---+---------------+------+\n",
            "| id|           name|salary|\n",
            "+---+---------------+------+\n",
            "|  1|Tanaji Malusare|  2000|\n",
            "|  2|    Maloji baba|  3000|\n",
            "|  3|          Kalki| 34000|\n",
            "+---+---------------+------+\n",
            "\n"
          ]
        }
      ]
    }
  ]
}